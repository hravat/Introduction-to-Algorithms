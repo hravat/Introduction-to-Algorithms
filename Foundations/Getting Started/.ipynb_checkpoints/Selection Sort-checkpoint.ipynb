{
 "cells": [
  {
   "cell_type": "markdown",
   "metadata": {},
   "source": [
    "### Psuedo Code Selection Sort \n",
    "<pre>\n",
    "SELECTION-SORT(A)\n",
    "1 for i in 1 to A.length-1\n",
    "2    key = A[i] and smallest_nidex=i\n",
    "3 // Insert A[i]  into the sorted sequence A[1 .. j - 1]\n",
    "4 \t for j in i to A.length-1  \n",
    "5 \t \tif A[j] < key\n",
    "6 \t    \tsmallest_index=j and key = A[j]\n",
    "7 \t swap A[smallest_index] with A[i]  and A[i] with key\n",
    "8 \t\n",
    "</pre>"
   ]
  },
  {
   "cell_type": "code",
   "execution_count": 1,
   "metadata": {},
   "outputs": [],
   "source": [
    "class SelectionSort:\n",
    "    def __init__(self,array):\n",
    "        self.array=array\n",
    "                \n",
    "    def selection_sort(self):\n",
    "        arr_len = len(self.array)\n",
    "        for i in range(len(self.array)):\n",
    "            smallest_index=i\n",
    "            key=self.array[i]\n",
    "            for j in range(i,len(self.array)):\n",
    "                if self.array[j] < key:\n",
    "                    smallest_index=j\n",
    "                    key=self.array[j]\n",
    "            \n",
    "            self.array[smallest_index]=self.array[i]\n",
    "            self.array[i]=key\n",
    "        \n",
    "        print(self.array)        "
   ]
  },
  {
   "cell_type": "code",
   "execution_count": 2,
   "metadata": {},
   "outputs": [],
   "source": [
    "arr_sort = SelectionSort(array=[5,2,4,1,6,3,-4,-3])"
   ]
  },
  {
   "cell_type": "code",
   "execution_count": 3,
   "metadata": {},
   "outputs": [
    {
     "name": "stdout",
     "output_type": "stream",
     "text": [
      "[-4, -3, 1, 2, 3, 4, 5, 6]\n"
     ]
    }
   ],
   "source": [
    "arr_sort.selection_sort()"
   ]
  }
 ],
 "metadata": {
  "kernelspec": {
   "display_name": "Python 3",
   "language": "python",
   "name": "python3"
  },
  "language_info": {
   "codemirror_mode": {
    "name": "ipython",
    "version": 3
   },
   "file_extension": ".py",
   "mimetype": "text/x-python",
   "name": "python",
   "nbconvert_exporter": "python",
   "pygments_lexer": "ipython3",
   "version": "3.8.3"
  }
 },
 "nbformat": 4,
 "nbformat_minor": 4
}
