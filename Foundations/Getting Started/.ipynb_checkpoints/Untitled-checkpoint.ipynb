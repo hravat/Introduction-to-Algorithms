{
 "cells": [
  {
   "cell_type": "markdown",
   "metadata": {},
   "source": [
    "# Insertion Sort\n",
    "Page 18/39"
   ]
  },
  {
   "cell_type": "markdown",
   "metadata": {},
   "source": [
    "### Psuedo Code\n",
    "<pre>\n",
    "INSERTION-SORT(A)\n",
    "1 for j in 2 to A.length\n",
    "2    key = A[j]\n",
    "3 // Insert A[j]  into the sorted sequence A[1 .. j - 1]\n",
    "4 \ti = j-1\n",
    "5 \twhile i > 0 and A[i] > key\n",
    "6 \t\tA[i+1] = A[i]\n",
    "7 \t\ti = i - 1\n",
    "8 \tA[i+1] = key\n",
    "</pre>"
   ]
  },
  {
   "cell_type": "code",
   "execution_count": 28,
   "metadata": {},
   "outputs": [],
   "source": [
    "class Insertion_Sort:\n",
    "     \n",
    "        def __init__(self,array):\n",
    "                self.array=array\n",
    "                \n",
    "        def disp_arr(self):\n",
    "            print(self.array)\n",
    "                \n",
    "        def sort_arr(self):\n",
    "            for j in range(1,len(self.array)):\n",
    "                key = self.array[j]\n",
    "                i=j-1\n",
    "                while (i >= 0) and (self.array[i] > key):\n",
    "                    self.array[i+1] = self.array[i]\n",
    "                    i = i-1\n",
    "                self.array[i+1] = key    \n",
    "            print(\"Merge Sorted Array\")\n",
    "            print(self.array)    \n",
    "                "
   ]
  },
  {
   "cell_type": "code",
   "execution_count": 29,
   "metadata": {},
   "outputs": [],
   "source": [
    "arr_sort = Insertion_Sort(array=[4,5,3,2])"
   ]
  },
  {
   "cell_type": "code",
   "execution_count": 30,
   "metadata": {},
   "outputs": [
    {
     "name": "stdout",
     "output_type": "stream",
     "text": [
      "[4, 5, 3, 2]\n"
     ]
    }
   ],
   "source": [
    "arr_sort.disp_arr()"
   ]
  },
  {
   "cell_type": "code",
   "execution_count": 31,
   "metadata": {},
   "outputs": [
    {
     "name": "stdout",
     "output_type": "stream",
     "text": [
      "Merge Sorted Array\n",
      "[2, 3, 4, 5]\n"
     ]
    }
   ],
   "source": [
    "arr_sort.sort_arr()"
   ]
  }
 ],
 "metadata": {
  "kernelspec": {
   "display_name": "Python 3",
   "language": "python",
   "name": "python3"
  },
  "language_info": {
   "codemirror_mode": {
    "name": "ipython",
    "version": 3
   },
   "file_extension": ".py",
   "mimetype": "text/x-python",
   "name": "python",
   "nbconvert_exporter": "python",
   "pygments_lexer": "ipython3",
   "version": "3.8.3"
  }
 },
 "nbformat": 4,
 "nbformat_minor": 4
}
