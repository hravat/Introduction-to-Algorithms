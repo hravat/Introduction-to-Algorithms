{
 "cells": [
  {
   "cell_type": "markdown",
   "metadata": {},
   "source": [
    "# Adding binary numbers\n",
    "Ex 2.1-4"
   ]
  },
  {
   "cell_type": "markdown",
   "metadata": {},
   "source": [
    "### Psuedo Code\n",
    "<pre>\n",
    "ADD (A,B)\n",
    "  carry=0\n",
    "1 for i in 1 to reveresed(A.length)\n",
    "2 \tC[i]= A[i] XOR B[i] XOR carry\n",
    "3 \tcarry =(A[i] AND B[i]) OR (A[i] AND carry) OR (B[i] AND carry) \n",
    "4 C[0]=carry\n",
    "</pre>"
   ]
  },
  {
   "cell_type": "code",
   "execution_count": 153,
   "metadata": {},
   "outputs": [],
   "source": [
    "class BinaryAdd:\n",
    "    \n",
    "    def __init__(self,A,B):\n",
    "        self.A = A\n",
    "        self.B = B\n",
    "        self.C = [None] * (len(self.A)+1)\n",
    "    \n",
    "    \n",
    "    def BinaryAdd(self):\n",
    "        carry=0\n",
    "        bin_sum = ''\n",
    "        for i in reversed(range(len(self.A))):\n",
    "            self.C[i-len(self.A)] = self.A[i] ^ self.B[i] ^ carry\n",
    "            carry = (self.A[i] & self.B[i]) | (self.A[i] & carry) | (self.B[i] & carry)\n",
    "        \n",
    "        self.C[0]=carry\n",
    "        print(self.C)\n",
    "    \n",
    "    \n",
    "    "
   ]
  },
  {
   "cell_type": "code",
   "execution_count": 154,
   "metadata": {},
   "outputs": [],
   "source": [
    "arr_binary_add = BinaryAdd(A=[1,0,1],B=[1,0,0])"
   ]
  },
  {
   "cell_type": "code",
   "execution_count": 155,
   "metadata": {},
   "outputs": [
    {
     "name": "stdout",
     "output_type": "stream",
     "text": [
      "[1, 0, 0, 1]\n"
     ]
    }
   ],
   "source": [
    "arr_binary_add.BinaryAdd()"
   ]
  },
  {
   "cell_type": "code",
   "execution_count": 156,
   "metadata": {},
   "outputs": [],
   "source": [
    "arr_binary_add = BinaryAdd(A=[1,1,1],B=[1,0,1])"
   ]
  },
  {
   "cell_type": "code",
   "execution_count": 157,
   "metadata": {},
   "outputs": [
    {
     "name": "stdout",
     "output_type": "stream",
     "text": [
      "[1, 1, 0, 0]\n"
     ]
    }
   ],
   "source": [
    "arr_binary_add.BinaryAdd()"
   ]
  }
 ],
 "metadata": {
  "kernelspec": {
   "display_name": "Python 3",
   "language": "python",
   "name": "python3"
  },
  "language_info": {
   "codemirror_mode": {
    "name": "ipython",
    "version": 3
   },
   "file_extension": ".py",
   "mimetype": "text/x-python",
   "name": "python",
   "nbconvert_exporter": "python",
   "pygments_lexer": "ipython3",
   "version": "3.8.3"
  }
 },
 "nbformat": 4,
 "nbformat_minor": 4
}
