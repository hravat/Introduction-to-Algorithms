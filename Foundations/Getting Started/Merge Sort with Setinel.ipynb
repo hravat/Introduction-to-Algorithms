{
 "cells": [
  {
   "cell_type": "code",
   "execution_count": 1,
   "metadata": {},
   "outputs": [],
   "source": [
    "class MergeSort:\n",
    "    \n",
    "    \n",
    "    def __init__(self,array):\n",
    "        self.array = array\n",
    "        \n",
    "        \n",
    "    def disp_arr(self):\n",
    "        '''\n",
    "        Displys the array\n",
    "        '''\n",
    "        print(self.array)\n",
    "            \n",
    "    def __merge(self, p, q, r): \n",
    "        '''\n",
    "        This is a private function for the merge Logic\n",
    "        '''\n",
    "        \n",
    "        n1 = q - p + 1\n",
    "        n2 = r- q \n",
    "\n",
    "        # create temp arrays \n",
    "        L = [0] * (n1) \n",
    "        R = [0] * (n2) \n",
    "\n",
    "        # Copy data to temp arrays L[] and R[] \n",
    "        for i in range(0 , n1): \n",
    "            L[i] = self.array[p + i] \n",
    "\n",
    "        for j in range(0 , n2): \n",
    "            R[j] = self.array[q + 1 + j] \n",
    "            \n",
    "        L.append(float('inf'))  \n",
    "        R.append(float('inf'))    \n",
    "\n",
    "        # Merge the temp arrays back into array[l..r] \n",
    "        i = 0\t # Initial index of first subarrayay \n",
    "        j = 0\t # Initial index of second subarrayay \n",
    "        \n",
    "        for k in range(p,r+1) : \n",
    "            if L[i] <= R[j]: \n",
    "                self.array[k] = L[i] \n",
    "                i += 1\n",
    "            else: \n",
    "                self.array[k] = R[j] \n",
    "                j += 1\n",
    "            #k += 1\n",
    "\n",
    "       \n",
    "        \n",
    "        \n",
    "    def merge_sort(self,p,r):\n",
    "        '''\n",
    "        This is the merge part of the algorithm\n",
    "        '''\n",
    "        if p < r:\n",
    "            q = (p+(r-1))//2\n",
    "            self.merge_sort(p,q)\n",
    "            self.merge_sort(q+1,r)\n",
    "            self.__merge(p,q,r) \n",
    "    \n",
    "        return self.array                  "
   ]
  },
  {
   "cell_type": "code",
   "execution_count": 2,
   "metadata": {},
   "outputs": [],
   "source": [
    "arr = [5,9,18,13] \n",
    "n = len(arr)\n",
    "obj=MergeSort(arr)"
   ]
  },
  {
   "cell_type": "code",
   "execution_count": 3,
   "metadata": {},
   "outputs": [
    {
     "name": "stdout",
     "output_type": "stream",
     "text": [
      "[5, 9, 18, 13]\n"
     ]
    }
   ],
   "source": [
    "obj.disp_arr()"
   ]
  },
  {
   "cell_type": "code",
   "execution_count": 4,
   "metadata": {},
   "outputs": [
    {
     "data": {
      "text/plain": [
       "[5, 9, 13, 18]"
      ]
     },
     "execution_count": 4,
     "metadata": {},
     "output_type": "execute_result"
    }
   ],
   "source": [
    "obj.merge_sort(0,n-1)"
   ]
  }
 ],
 "metadata": {
  "kernelspec": {
   "display_name": "Python 3.8 (XPython)",
   "language": "python",
   "name": "xpython"
  },
  "language_info": {
   "file_extension": ".py",
   "mimetype": "text/x-python",
   "name": "python",
   "version": "3.8.5"
  }
 },
 "nbformat": 4,
 "nbformat_minor": 4
}
