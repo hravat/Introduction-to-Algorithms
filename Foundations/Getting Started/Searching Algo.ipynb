{
 "cells": [
  {
   "cell_type": "markdown",
   "metadata": {},
   "source": [
    "# Searchin Algo\n",
    "Ex 2.1-3"
   ]
  },
  {
   "cell_type": "markdown",
   "metadata": {},
   "source": [
    "### Psuedo Code\n",
    "<pre>\n",
    "SEARCH (A,val)\n",
    "1 for i in 1 to A.length\n",
    "2 \tif A[i] =val\n",
    "3 \t\treturn i\n",
    "4 return NIL\n",
    "</pre>"
   ]
  },
  {
   "cell_type": "code",
   "execution_count": 6,
   "metadata": {},
   "outputs": [],
   "source": [
    "class ValueSearch:\n",
    "    \n",
    "    def __init__(self,array,val):\n",
    "        self.array = array\n",
    "        self.val = val \n",
    "    \n",
    "    def disp_arr(self):\n",
    "            print(self.array)\n",
    "            print(self.val)\n",
    "            \n",
    "    def search_val(self):\n",
    "        for i in range(len(self.array)):\n",
    "                if self.val == self.array[i]:\n",
    "                       return i\n",
    "                       \n",
    "        return 'NIL'"
   ]
  },
  {
   "cell_type": "code",
   "execution_count": 7,
   "metadata": {},
   "outputs": [],
   "source": [
    "arr_search = ValueSearch(array=[5,2,4,1,6,3,-4,-3,-4],val=1)"
   ]
  },
  {
   "cell_type": "code",
   "execution_count": 9,
   "metadata": {},
   "outputs": [
    {
     "name": "stdout",
     "output_type": "stream",
     "text": [
      "3\n"
     ]
    }
   ],
   "source": [
    "print(arr_search.search_val())"
   ]
  },
  {
   "cell_type": "code",
   "execution_count": 11,
   "metadata": {},
   "outputs": [],
   "source": [
    "arr_search = ValueSearch(array=[5,2,4,1,6,3,-4,-3,-4],val=-8)"
   ]
  },
  {
   "cell_type": "code",
   "execution_count": 12,
   "metadata": {},
   "outputs": [
    {
     "name": "stdout",
     "output_type": "stream",
     "text": [
      "NIL\n"
     ]
    }
   ],
   "source": [
    "print(arr_search.search_val())"
   ]
  }
 ],
 "metadata": {
  "kernelspec": {
   "display_name": "Python 3",
   "language": "python",
   "name": "python3"
  },
  "language_info": {
   "codemirror_mode": {
    "name": "ipython",
    "version": 3
   },
   "file_extension": ".py",
   "mimetype": "text/x-python",
   "name": "python",
   "nbconvert_exporter": "python",
   "pygments_lexer": "ipython3",
   "version": "3.8.3"
  }
 },
 "nbformat": 4,
 "nbformat_minor": 4
}
