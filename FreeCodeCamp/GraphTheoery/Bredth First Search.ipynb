{
 "metadata": {
  "language_info": {
   "codemirror_mode": {
    "name": "ipython",
    "version": 3
   },
   "file_extension": ".py",
   "mimetype": "text/x-python",
   "name": "python",
   "nbconvert_exporter": "python",
   "pygments_lexer": "ipython3",
   "version": "3.8.3"
  },
  "orig_nbformat": 2,
  "kernelspec": {
   "name": "python383jvsc74a57bd01baa965d5efe3ac65b79dfc60c0d706280b1da80fedb7760faf2759126c4f253",
   "display_name": "Python 3.8.3 64-bit"
  }
 },
 "nbformat": 4,
 "nbformat_minor": 2,
 "cells": [
  {
   "source": [
    "'''\n",
    "Psuedo Code 1\n",
    "\n",
    "n= number of nodes in the graph\n",
    "g= adjacency list representing unweihgted graph\n",
    "\n",
    "s=start_node\n",
    "e=end_node\n",
    "0<=e\n",
    "s<n\n",
    "\n",
    "function bfs(s)\n",
    "\n",
    "    # Do a BFS starting at node n \n",
    "    prev=solve(s)\n",
    "\n",
    "    # Return Reconstructed path from s -> e \n",
    "    return reconstrucpath(s,e,prev)\n",
    "'''\n",
    "\n",
    "'''\n",
    "Psuedo Code 2 \n",
    "\n",
    "solve(s)    \n",
    "    q = queue data structure with enqueu and dequeue\n",
    "    q.enqueu(s)\n",
    "    \n",
    "    visited = [false,false..] #size n\n",
    "    visited[s]=True\n",
    "    \n",
    "    prev = [false,false..] #size n\n",
    "    while !q.isempty():\n",
    "        node=q.dequeu()\n",
    "        neighbours=g.getnode(node)\n",
    "        \n",
    "        for(next:neighbours):\n",
    "            if !visited[next]:\n",
    "                q.enqueu(next)\n",
    "                visited[next]=True\n",
    "                prev[next]=node\n",
    "                \n",
    "    return prev\n",
    "'''\n",
    "\n",
    "'''\n",
    "Psuedo Code 3 \n",
    "\n",
    "reconstruct path(s,e,prev)\n",
    "\n",
    "    path=[]\n",
    "    for(at=e,at!=null,at=prev[at]):\n",
    "        path.add(at)\n",
    "    path.reverse\n",
    "    \n",
    "    return path    \n",
    "'''\n"
   ],
   "cell_type": "markdown",
   "metadata": {}
  },
  {
   "cell_type": "code",
   "execution_count": 1,
   "metadata": {},
   "outputs": [],
   "source": [
    "number_of_nodes=13\n",
    "adjacency_list={}\n",
    "adjacency_list[0] = [7,9,11]\n",
    "adjacency_list[1] = [8,10]\n",
    "adjacency_list[2] = [3,12]\n",
    "adjacency_list[3]=[2,4]\n",
    "adjacency_list[4] = [3]\n",
    "adjacency_list[5]=[6]\n",
    "adjacency_list[6]=[5,7]\n",
    "adjacency_list[7] = [0,3,6,11]\n",
    "adjacency_list[8] = [1,9,12]\n",
    "adjacency_list[9] = [0,8,10]\n",
    "adjacency_list[10] = [1,9]\n",
    "adjacency_list[11] = [0,7]\n",
    "adjacency_list[12] = [2,8]"
   ]
  },
  {
   "cell_type": "code",
   "execution_count": 2,
   "metadata": {},
   "outputs": [],
   "source": [
    "def solve(start_node):\n",
    "    \n",
    "    global number_of_nodes\n",
    "    global adjacency_list\n",
    "    \n",
    "    graph_queue=[]\n",
    "    graph_queue.append(start_node)\n",
    "    \n",
    "    visited=[False for i in range(number_of_nodes+1)]\n",
    "    prev=[False for i in range(number_of_nodes+1)]\n",
    "    \n",
    "    visited[start_node]=True\n",
    "    \n",
    "    while len(graph_queue)!= 0:\n",
    "        curr_node=graph_queue.pop()\n",
    "        neighbours= adjacency_list[curr_node]\n",
    "        \n",
    "        for next_node in neighbours:\n",
    "            if not visited[next_node]:\n",
    "                graph_queue.append(next_node)\n",
    "                visited[next_node]=True\n",
    "                prev[next_node]=curr_node\n",
    "                \n",
    "    return prev"
   ]
  },
  {
   "cell_type": "code",
   "execution_count": 3,
   "metadata": {},
   "outputs": [],
   "source": [
    "\n",
    "def reconstrucpath(start_node,end_node,prev):\n",
    "    path=[]\n",
    "    node_at=end_node\n",
    "\n",
    "    while type(node_at) != bool:\n",
    "        path.append(node_at)\n",
    "        node_at=prev[node_at]\n",
    "        \n",
    "        \n",
    "    return [node for node in reversed(path)]"
   ]
  },
  {
   "cell_type": "code",
   "execution_count": 4,
   "metadata": {},
   "outputs": [],
   "source": [
    "def bredth_first_search(start_node,end_node):\n",
    "    prev = solve(start_node)\n",
    "    path=reconstrucpath(start_node,end_node,prev)\n",
    "    return path"
   ]
  },
  {
   "cell_type": "code",
   "execution_count": 5,
   "metadata": {},
   "outputs": [
    {
     "output_type": "stream",
     "name": "stdout",
     "text": [
      "[0, 9, 8, 12]\n"
     ]
    }
   ],
   "source": [
    "start_node=0\n",
    "end_node=12\n",
    "\n",
    "path =  bredth_first_search(0,12)\n",
    "print(path)  "
   ]
  },
  {
   "cell_type": "code",
   "execution_count": null,
   "metadata": {},
   "outputs": [],
   "source": []
  }
 ]
}