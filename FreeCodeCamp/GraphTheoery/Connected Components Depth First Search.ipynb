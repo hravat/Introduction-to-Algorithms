{
 "cells": [
  {
   "cell_type": "markdown",
   "metadata": {},
   "source": [
    "Psuedo Code \n",
    "\n",
    "```\n",
    " # Global or Class Scope varaibles \n",
    " \n",
    " n = number of nodes in a graph\n",
    " g = Adjacency List representing number of nodes in a graph\n",
    " visited = [false,....false] n times \n",
    " count=0\n",
    " components=[] int list size n \n",
    " \n",
    " function find_components\n",
    "     for i in 1 to n:\n",
    "         if !visited[i]:\n",
    "             count++\n",
    "             dfs(i)\n",
    " return comonents,count\n",
    " \n",
    " \n",
    " function dfs(at):\n",
    "     visited[at] = True\n",
    "     components[at]=count\n",
    "     \n",
    "     neighbours=graph[at]\n",
    "     for next in neighbours:\n",
    "         if !visited[next]:\n",
    "             dfs(next)\n",
    "         \n",
    "  ```"
   ]
  },
  {
   "cell_type": "code",
   "execution_count": 31,
   "metadata": {},
   "outputs": [],
   "source": [
    "number_of_nodes=17\n",
    "adjacency_list = {}\n",
    "visited=[False for i in range(number_of_nodes+1)]\n",
    "components={}\n",
    "count=0"
   ]
  },
  {
   "cell_type": "code",
   "execution_count": 32,
   "metadata": {},
   "outputs": [],
   "source": [
    "adjacency_list[0] = [4,8,14,13]\n",
    "adjacency_list[1] = [5]\n",
    "adjacency_list[2] = [15,9]\n",
    "adjacency_list[3]=[9]\n",
    "adjacency_list[4] = [8,0]\n",
    "adjacency_list[5]=[17,16,1]\n",
    "adjacency_list[6]=[7,11]\n",
    "adjacency_list[7] = [6,11]\n",
    "adjacency_list[8] = [0,4,14]\n",
    "adjacency_list[9] = [2,3,15]\n",
    "adjacency_list[10] = [15]\n",
    "adjacency_list[11] = [6,7]\n",
    "adjacency_list[12] = []\n",
    "adjacency_list[13] = [0,14]\n",
    "adjacency_list[14] = [0,8,13]\n",
    "adjacency_list[15] = [2,9,10]\n",
    "adjacency_list[16] = [5]\n",
    "adjacency_list[17] = [5]"
   ]
  },
  {
   "cell_type": "code",
   "execution_count": 33,
   "metadata": {},
   "outputs": [],
   "source": [
    "def find_components(number_of_nodes,\n",
    "                    adjacency_list,\n",
    "                    visited,\n",
    "                    components,\n",
    "                    count):\n",
    "    \n",
    "    for i in range(number_of_nodes+1):\n",
    "        if visited[i]==False:\n",
    "            count += 1 \n",
    "            dfs(i,adjacency_list,visited,components,count)"
   ]
  },
  {
   "cell_type": "code",
   "execution_count": 34,
   "metadata": {},
   "outputs": [],
   "source": [
    "def dfs(at,adjacency_list,visited,components,count):\n",
    "    \n",
    "    visited[at]=True\n",
    "    components[at]=count\n",
    "    \n",
    "    neighbours = adjacency_list[at]\n",
    "    \n",
    "    for next in neighbours:\n",
    "        if not visited[next]:\n",
    "            dfs(next,adjacency_list,visited,components,count)"
   ]
  },
  {
   "cell_type": "code",
   "execution_count": 35,
   "metadata": {},
   "outputs": [],
   "source": [
    "find_components(number_of_nodes,\n",
    "                    adjacency_list,\n",
    "                    visited,\n",
    "                    components,\n",
    "                    count)"
   ]
  },
  {
   "cell_type": "code",
   "execution_count": 36,
   "metadata": {},
   "outputs": [
    {
     "data": {
      "text/plain": [
       "{0: 1,\n",
       " 4: 1,\n",
       " 8: 1,\n",
       " 14: 1,\n",
       " 13: 1,\n",
       " 1: 2,\n",
       " 5: 2,\n",
       " 17: 2,\n",
       " 16: 2,\n",
       " 2: 3,\n",
       " 15: 3,\n",
       " 9: 3,\n",
       " 3: 3,\n",
       " 10: 3,\n",
       " 6: 4,\n",
       " 7: 4,\n",
       " 11: 4,\n",
       " 12: 5}"
      ]
     },
     "execution_count": 36,
     "metadata": {},
     "output_type": "execute_result"
    }
   ],
   "source": [
    "components"
   ]
  },
  {
   "cell_type": "code",
   "execution_count": null,
   "metadata": {},
   "outputs": [],
   "source": []
  }
 ],
 "metadata": {
  "kernelspec": {
   "display_name": "Python 3",
   "language": "python",
   "name": "python3"
  },
  "language_info": {
   "codemirror_mode": {
    "name": "ipython",
    "version": 3
   },
   "file_extension": ".py",
   "mimetype": "text/x-python",
   "name": "python",
   "nbconvert_exporter": "python",
   "pygments_lexer": "ipython3",
   "version": "3.8.3"
  }
 },
 "nbformat": 4,
 "nbformat_minor": 4
}
