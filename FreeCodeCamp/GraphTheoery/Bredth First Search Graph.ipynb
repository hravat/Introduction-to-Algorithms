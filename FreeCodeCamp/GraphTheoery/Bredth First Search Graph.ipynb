{
 "metadata": {
  "language_info": {
   "codemirror_mode": {
    "name": "ipython",
    "version": 3
   },
   "file_extension": ".py",
   "mimetype": "text/x-python",
   "name": "python",
   "nbconvert_exporter": "python",
   "pygments_lexer": "ipython3",
   "version": "3.8.3"
  },
  "orig_nbformat": 2,
  "kernelspec": {
   "name": "python383jvsc74a57bd01baa965d5efe3ac65b79dfc60c0d706280b1da80fedb7760faf2759126c4f253",
   "display_name": "Python 3.8.3 64-bit"
  }
 },
 "nbformat": 4,
 "nbformat_minor": 2,
 "cells": [
  {
   "source": [
    "'''\n",
    "\n",
    "\n",
    "Pseudo code for direction vectors \n",
    "\n",
    "dr = [-1,1,0,0]\n",
    "dc = [0,0,1,-1]\n",
    "\n",
    "for (i=0,i<4,i++):\n",
    "    rr=r+dr[i]\n",
    "    cc=c+dc[i]\n",
    "\n",
    "    if rr < 0 or cc < 0: continue\n",
    "    if rr >= R or cc >= C: continue\n",
    "     \n",
    "\n",
    "'''"
   ],
   "cell_type": "markdown",
   "metadata": {}
  },
  {
   "cell_type": "code",
   "execution_count": 1,
   "metadata": {},
   "outputs": [],
   "source": [
    "import numpy as np"
   ]
  },
  {
   "cell_type": "code",
   "execution_count": 2,
   "metadata": {},
   "outputs": [],
   "source": [
    "rows=5\n",
    "columns=7\n",
    "number_of_nodes=rows*columns"
   ]
  },
  {
   "cell_type": "code",
   "execution_count": 3,
   "metadata": {},
   "outputs": [],
   "source": [
    "def create_dungeon():\n",
    "    '''\n",
    "    This method creates the dungeon\n",
    "    It returns a numpy array\n",
    "    \n",
    "    The below are the representations of the cell \n",
    "    \n",
    "    0-EMPTY CELL\n",
    "    1-START\n",
    "    2-END\n",
    "    3-ROCK\n",
    "    \n",
    "    Arguments : - \n",
    "    rows :- Number of rows \n",
    "    columns :- Number of columns \n",
    "    start node \n",
    "    end node \n",
    "    number of rocks \n",
    "    '''\n",
    "    \n",
    "    \n",
    "    dungeon_arr = np.zeros([rows,columns])\n",
    "    \n",
    "    dungeon_arr[0,0]=1\n",
    "    dungeon_arr[4,3]=2\n",
    "    dungeon_arr[4,0]=3\n",
    "    dungeon_arr[1,1]=3\n",
    "    dungeon_arr[2,1]=3\n",
    "    dungeon_arr[3,2]=3\n",
    "    dungeon_arr[4,2]=3\n",
    "    dungeon_arr[0,3]=3\n",
    "    dungeon_arr[3,3]=3\n",
    "    dungeon_arr[1,5]=3\n",
    "    dungeon_arr[4,5]=3\n",
    "    dungeon_arr[4,5]=3\n",
    "    \n",
    "    return dungeon_arr"
   ]
  },
  {
   "cell_type": "code",
   "execution_count": 4,
   "metadata": {},
   "outputs": [],
   "source": [
    "dungeon_arr=create_dungeon()"
   ]
  },
  {
   "cell_type": "code",
   "execution_count": 5,
   "metadata": {},
   "outputs": [],
   "source": [
    "def get_adjacent_cells(curr_row,curr_col,dungeon_arr):\n",
    "    \n",
    "    '''\n",
    "    This function is used to get the \n",
    "    adjacent cells assuming we can cannot move diagonally\n",
    "    Arguments :- \n",
    "    Current Row \n",
    "    Current Column \n",
    "    Dungeon Array \n",
    "    '''\n",
    "    \n",
    "    dr = [-1,1,0,0]\n",
    "    dc = [0,0,1,-1]\n",
    "    adjacent_cells=[]\n",
    "\n",
    "    for i in range(4):\n",
    "        \n",
    "        rr=curr_row+dr[i]\n",
    "        cc=curr_col+dc[i]\n",
    "\n",
    "        if cc < 0 or rr < 0 or rr >= rows or cc >= columns or dungeon_arr[rr,cc]==3:\n",
    "            continue\n",
    "        else:  \n",
    "            adjacent_cells.append((rr,cc))\n",
    "            \n",
    "    return adjacent_cells        "
   ]
  },
  {
   "cell_type": "code",
   "execution_count": 6,
   "metadata": {},
   "outputs": [],
   "source": [
    "def graph_to_adjacency_list(rows,columns,dungeon_arr):\n",
    "    '''\n",
    "    This function will convert the graph to an adjacency list \n",
    "    '''\n",
    "    \n",
    "    graph_dict={}\n",
    "    graph_rev_dict={}\n",
    "    cnt=0\n",
    "    adjacency_list={}\n",
    "    \n",
    "    for curr_row in range(rows):\n",
    "        for curr_col in range(columns):\n",
    "            graph_dict[(curr_row,curr_col)]=cnt\n",
    "            graph_rev_dict[cnt]=(curr_row,curr_col)\n",
    "            cnt += 1\n",
    "            \n",
    "            \n",
    "    for curr_row in range(rows):\n",
    "        for curr_col in range(columns):      \n",
    "            \n",
    "            adj_neb_idx =[]\n",
    "            adjacent_cells=get_adjacent_cells(curr_row,curr_col,dungeon_arr)\n",
    "            \n",
    "            for cell in adjacent_cells:\n",
    "                adj_neb_idx.append(graph_dict[cell])\n",
    "            adjacency_list[graph_dict[curr_row,curr_col]]=adj_neb_idx\n",
    "    \n",
    "    result=np.where(dungeon_arr == 1)\n",
    "    start_node=list(zip(result[0], result[1]))\n",
    "    start_node=graph_dict[start_node[0]]\n",
    "    \n",
    "    result=np.where(dungeon_arr == 2)\n",
    "    end_node=list(zip(result[0], result[1])) \n",
    "    end_node=graph_dict[end_node[0]]       \n",
    "            \n",
    "    return adjacency_list,start_node,end_node,graph_rev_dict "
   ]
  },
  {
   "cell_type": "code",
   "execution_count": 7,
   "metadata": {},
   "outputs": [],
   "source": [
    "adjacency_list,start_node,end_node,graph_rev_dict=graph_to_adjacency_list(rows,columns,dungeon_arr)"
   ]
  },
  {
   "cell_type": "code",
   "execution_count": 12,
   "metadata": {},
   "outputs": [],
   "source": [
    "def solve(start_node):\n",
    "    \n",
    "    global number_of_nodes\n",
    "    global adjacency_list\n",
    "    \n",
    "    graph_queue=[]\n",
    "    graph_queue.append(start_node)\n",
    "    \n",
    "    visited=[False for i in range(number_of_nodes+1)]\n",
    "    prev=[False for i in range(number_of_nodes+1)]\n",
    "    \n",
    "    visited[start_node]=True\n",
    "    \n",
    "    while len(graph_queue)!= 0:\n",
    "        curr_node=graph_queue.pop()\n",
    "        neighbours= adjacency_list[curr_node]\n",
    "        \n",
    "        for next_node in neighbours:\n",
    "            if not visited[next_node]:\n",
    "                graph_queue.append(next_node)\n",
    "                visited[next_node]=True\n",
    "                prev[next_node]=curr_node\n",
    "                \n",
    "    return prev            "
   ]
  },
  {
   "cell_type": "code",
   "execution_count": 13,
   "metadata": {},
   "outputs": [],
   "source": [
    "def reconstrucpath(start_node,end_node,prev):\n",
    "    path=[]\n",
    "    node_at=end_node\n",
    "\n",
    "    while type(node_at) != bool:\n",
    "        path.append(node_at)\n",
    "        node_at=prev[node_at]\n",
    "        \n",
    "        \n",
    "    return [node for node in reversed(path)]"
   ]
  },
  {
   "cell_type": "code",
   "execution_count": 14,
   "metadata": {},
   "outputs": [],
   "source": [
    "def bredth_first_search(start_node,end_node):\n",
    "    prev = solve(start_node)\n",
    "    path=reconstrucpath(start_node,end_node,prev)\n",
    "    return path"
   ]
  },
  {
   "cell_type": "code",
   "execution_count": 15,
   "metadata": {},
   "outputs": [
    {
     "output_type": "stream",
     "name": "stdout",
     "text": [
      "(0, 0)\n(0, 1)\n(0, 2)\n(1, 2)\n(1, 3)\n(1, 4)\n(2, 4)\n(3, 4)\n(4, 4)\n(4, 3)\n"
     ]
    }
   ],
   "source": [
    "path =  bredth_first_search(start_node,end_node)\n",
    "for index in path:\n",
    "    print(graph_rev_dict[index])  "
   ]
  }
 ]
}