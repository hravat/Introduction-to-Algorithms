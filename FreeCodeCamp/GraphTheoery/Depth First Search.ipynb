{
 "cells": [
  {
   "cell_type": "code",
   "execution_count": 1,
   "metadata": {},
   "outputs": [],
   "source": [
    "# for auto-reloading external modules\n",
    "# see http://stackoverflow.com/questions/1907993/autoreload-of-modules-in-ipython\n",
    "%load_ext autoreload\n",
    "%autoreload 2"
   ]
  },
  {
   "cell_type": "markdown",
   "metadata": {},
   "source": [
    "Reference Videos \n",
    "\n",
    "https://www.youtube.com/watch?v=09_LlHjoEiY&t=1692s\n",
    "\n",
    "https://www.youtube.com/watch?v=QVcsSaGeSH0"
   ]
  },
  {
   "cell_type": "markdown",
   "metadata": {},
   "source": [
    "Psuedo Code \n",
    "\n",
    "```\n",
    " # Global or Class Scope varaibles \n",
    " \n",
    " n = number of nodes in a graph\n",
    " g = Adjacency List representing number of nodes in a graph \n",
    " visisted = [false,....false] n times \n",
    " \n",
    " function dfs(at):\n",
    "     if visited[at] : return\n",
    "     visited[at]=True\n",
    "     \n",
    "     neighbours=graph[at]\n",
    "     for next in neighbours:\n",
    "         dfs(next)\n",
    "         \n",
    " #Start dfs at node 0 \n",
    " start_node=0\n",
    " dfs(start_node)\n",
    "  \n",
    "```"
   ]
  },
  {
   "cell_type": "code",
   "execution_count": 13,
   "metadata": {},
   "outputs": [],
   "source": [
    "number_of_nodes=11\n",
    "adjacency_list = {}\n",
    "visited=[False for i in range(number_of_nodes+1)]"
   ]
  },
  {
   "cell_type": "code",
   "execution_count": 14,
   "metadata": {},
   "outputs": [],
   "source": [
    "adjacency_list[0] = [1,9]\n",
    "adjacency_list[1] = [8]\n",
    "adjacency_list[2] = []\n",
    "adjacency_list[3]=[2,4,5]\n",
    "adjacency_list[4] = []\n",
    "adjacency_list[5]=[6]\n",
    "adjacency_list[6]=[7]\n",
    "adjacency_list[7] = [10,3]\n",
    "adjacency_list[8] = [7]\n",
    "adjacency_list[9] = [8]\n",
    "adjacency_list[10] = [11]\n",
    "adjacency_list[11] = [7]"
   ]
  },
  {
   "cell_type": "code",
   "execution_count": 15,
   "metadata": {},
   "outputs": [],
   "source": [
    "def dfs(number_of_nodes,adjacency_list,at,visited,path):\n",
    "    \n",
    "    v_number_of_nodes=number_of_nodes\n",
    "    v_adjacency_list=adjacency_list\n",
    "    v_at=at\n",
    "    v_visited=visited\n",
    "    v_path=path\n",
    "    \n",
    "    if v_visited[v_at]:\n",
    "        return\n",
    "    else:\n",
    "        v_visited[at]=True    \n",
    "        \n",
    "    neighbours = v_adjacency_list[at]\n",
    "    \n",
    "    v_path=v_path+' '+str(v_at)\n",
    "    \n",
    "    print('=============================at=============================')\n",
    "    print(v_at)\n",
    "    print('=============================path=============================')\n",
    "    print(v_path)\n",
    "    \n",
    "    for next_node in neighbours:\n",
    "        dfs(v_number_of_nodes,v_adjacency_list,next_node,v_visited,v_path)\n",
    "    \n",
    "    "
   ]
  },
  {
   "cell_type": "code",
   "execution_count": 16,
   "metadata": {},
   "outputs": [
    {
     "name": "stdout",
     "output_type": "stream",
     "text": [
      "=============================at=============================\n",
      "0\n",
      "=============================path=============================\n",
      " 0\n",
      "=============================at=============================\n",
      "1\n",
      "=============================path=============================\n",
      " 0 1\n",
      "=============================at=============================\n",
      "8\n",
      "=============================path=============================\n",
      " 0 1 8\n",
      "=============================at=============================\n",
      "7\n",
      "=============================path=============================\n",
      " 0 1 8 7\n",
      "=============================at=============================\n",
      "10\n",
      "=============================path=============================\n",
      " 0 1 8 7 10\n",
      "=============================at=============================\n",
      "11\n",
      "=============================path=============================\n",
      " 0 1 8 7 10 11\n",
      "=============================at=============================\n",
      "3\n",
      "=============================path=============================\n",
      " 0 1 8 7 3\n",
      "=============================at=============================\n",
      "2\n",
      "=============================path=============================\n",
      " 0 1 8 7 3 2\n",
      "=============================at=============================\n",
      "4\n",
      "=============================path=============================\n",
      " 0 1 8 7 3 4\n",
      "=============================at=============================\n",
      "5\n",
      "=============================path=============================\n",
      " 0 1 8 7 3 5\n",
      "=============================at=============================\n",
      "6\n",
      "=============================path=============================\n",
      " 0 1 8 7 3 5 6\n",
      "=============================at=============================\n",
      "9\n",
      "=============================path=============================\n",
      " 0 9\n"
     ]
    }
   ],
   "source": [
    "visited=[False for i in range(number_of_nodes+1)]\n",
    "dfs(number_of_nodes,adjacency_list,0,visited,path='')"
   ]
  },
  {
   "cell_type": "code",
   "execution_count": null,
   "metadata": {},
   "outputs": [],
   "source": []
  }
 ],
 "metadata": {
  "kernelspec": {
   "name": "python383jvsc74a57bd01baa965d5efe3ac65b79dfc60c0d706280b1da80fedb7760faf2759126c4f253",
   "display_name": "Python 3.8.3 64-bit"
  },
  "language_info": {
   "codemirror_mode": {
    "name": "ipython",
    "version": 3
   },
   "file_extension": ".py",
   "mimetype": "text/x-python",
   "name": "python",
   "nbconvert_exporter": "python",
   "pygments_lexer": "ipython3",
   "version": "3.8.3-final"
  }
 },
 "nbformat": 4,
 "nbformat_minor": 4
}